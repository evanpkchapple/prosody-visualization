{
 "cells": [
  {
   "cell_type": "code",
   "execution_count": 10,
   "id": "daf10c5e",
   "metadata": {
    "scrolled": true
   },
   "outputs": [],
   "source": [
    "import os\n",
    "from pydub import AudioSegment\n",
    "from textgrid import TextGrid, IntervalTier, Interval\n",
    "import glob"
   ]
  },
  {
   "cell_type": "code",
   "execution_count": 11,
   "id": "d597a0eb",
   "metadata": {},
   "outputs": [],
   "source": [
    "def extract_segments(wav_path, tg_path, output_dir, pause_threshold=1000, buffer_time=500):\n",
    "    audio = AudioSegment.from_wav(wav_path)\n",
    "\n",
    "    tg = TextGrid.fromFile(tg_path)\n",
    "\n",
    "    base_path = wav_path.split('.')[0]\n",
    "    \n",
    "    base_path = base_path.replace('data_segmented/', '')\n",
    "\n",
    "    tier = tg[1]\n",
    "\n",
    "    last_end = 0\n",
    "    segment_index = 0\n",
    "    total_duration = len(audio)\n",
    "\n",
    "    ## Check if output directory exists\n",
    "    if not os.path.exists(output_dir):\n",
    "        os.makedirs(output_dir)\n",
    "\n",
    "\n",
    "    for interval in tier:\n",
    "        if interval.mark == \"#\" and interval.duration() > (pause_threshold/1000):\n",
    "\n",
    "            start_time = max(0, int((last_end * 1000) - buffer_time))\n",
    "            end_time = min(total_duration, int((interval.minTime * 1000) + buffer_time))\n",
    "            \n",
    "\n",
    "            segment = audio[start_time:end_time]\n",
    "\n",
    "            segment_name = f\"{base_path}_{segment_index}.wav\"\n",
    "            segment_path = os.path.join(output_dir, segment_name)\n",
    "            segment.export(segment_path, format=\"wav\")\n",
    "\n",
    "            tg_segment = TextGrid()\n",
    "            new_tier = IntervalTier(name=tier.name, minTime=0, maxTime=(end_time-start_time)/1000.0)\n",
    "            for intv in tier.intervals:\n",
    "                intv_start = intv.minTime * 1000\n",
    "                intv_end = intv.maxTime * 1000\n",
    "                if intv_end > start_time and intv_start < end_time:\n",
    "                    adjusted_start = max(intv_start - start_time, 0) / 1000.0\n",
    "                    adjusted_end = min(intv_end - start_time, end_time - start_time) / 1000.0\n",
    "                    new_interval = Interval(adjusted_start, adjusted_end, intv.mark)\n",
    "                    new_tier.addInterval(new_interval)\n",
    "            tg_segment.append(new_tier)\n",
    "            tg_segment_name = f\"{base_path}_{segment_index}.TextGrid\"\n",
    "            tg_segment_path = os.path.join(output_dir, tg_segment_name)\n",
    "            tg_segment.write(tg_segment_path)\n",
    "\n",
    "            segment_index += 1\n",
    "            last_end = interval.maxTime"
   ]
  },
  {
   "cell_type": "code",
   "execution_count": 12,
   "id": "3c510f66",
   "metadata": {},
   "outputs": [],
   "source": [
    "output_directory = \"data_out/\"\n",
    "for tg in glob.glob(\"data_segmented/*.textgrid\"):\n",
    "    tg_file = tg\n",
    "    wav_file = tg.split('.')[0] + '.wav'\n",
    "    extract_segments(wav_file, tg_file, output_directory, pause_threshold=1000, buffer_time=250)"
   ]
  }
 ],
 "metadata": {
  "kernelspec": {
   "display_name": "Python 3 (ipykernel)",
   "language": "python",
   "name": "python3"
  },
  "language_info": {
   "codemirror_mode": {
    "name": "ipython",
    "version": 3
   },
   "file_extension": ".py",
   "mimetype": "text/x-python",
   "name": "python",
   "nbconvert_exporter": "python",
   "pygments_lexer": "ipython3",
   "version": "3.11.4"
  }
 },
 "nbformat": 4,
 "nbformat_minor": 5
}
